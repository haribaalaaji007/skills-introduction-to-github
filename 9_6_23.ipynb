{
  "nbformat": 4,
  "nbformat_minor": 0,
  "metadata": {
    "colab": {
      "provenance": [],
      "authorship_tag": "ABX9TyMil7SAz+k2rIKkN/WRYSCp",
      "include_colab_link": true
    },
    "kernelspec": {
      "name": "python3",
      "display_name": "Python 3"
    },
    "language_info": {
      "name": "python"
    }
  },
  "cells": [
    {
      "cell_type": "markdown",
      "metadata": {
        "id": "view-in-github",
        "colab_type": "text"
      },
      "source": [
        "<a href=\"https://colab.research.google.com/github/haribaalaaji007/skills-introduction-to-github/blob/main/9_6_23.ipynb\" target=\"_parent\"><img src=\"https://colab.research.google.com/assets/colab-badge.svg\" alt=\"Open In Colab\"/></a>"
      ]
    },
    {
      "cell_type": "code",
      "execution_count": null,
      "metadata": {
        "colab": {
          "base_uri": "https://localhost:8080/"
        },
        "id": "wz66ukrQjMbh",
        "outputId": "fdd3e9bf-89e8-4b45-c698-d7f148179e85"
      },
      "outputs": [
        {
          "output_type": "stream",
          "name": "stdout",
          "text": [
            "60\n",
            "30\n"
          ]
        }
      ],
      "source": [
        "def add(i,j):\n",
        "  return j+i\n",
        "a =10\n",
        "b =20\n",
        "c = add(a,b)\n",
        "print(add(20,40))\n",
        "print(c)"
      ]
    },
    {
      "cell_type": "code",
      "source": [
        "def count(n):\n",
        "  c = 0\n",
        "  while(n>0):\n",
        "      n //= 10\n",
        "      c +=1\n",
        "  return c\n",
        "n = int(input())\n",
        "count(n)"
      ],
      "metadata": {
        "colab": {
          "base_uri": "https://localhost:8080/"
        },
        "id": "VX2aq78lj90T",
        "outputId": "f0abd9f1-01b4-4971-d619-dc7825dfbe98"
      },
      "execution_count": null,
      "outputs": [
        {
          "name": "stdout",
          "output_type": "stream",
          "text": [
            "2\n"
          ]
        },
        {
          "output_type": "execute_result",
          "data": {
            "text/plain": [
              "1"
            ]
          },
          "metadata": {},
          "execution_count": 2
        }
      ]
    },
    {
      "cell_type": "markdown",
      "source": [
        "PACKAGES TOPIC"
      ],
      "metadata": {
        "id": "dyrx4AxBtwts"
      }
    },
    {
      "cell_type": "code",
      "source": [
        "!mkdir calci"
      ],
      "metadata": {
        "id": "euRPMYuJnVGq"
      },
      "execution_count": null,
      "outputs": []
    },
    {
      "cell_type": "code",
      "source": [
        "open(\"calci/arithmetic.py\",'x')"
      ],
      "metadata": {
        "colab": {
          "base_uri": "https://localhost:8080/"
        },
        "id": "XME8K4lgpsxj",
        "outputId": "c2e2cdfc-b89c-4aad-f922-50ab194966b6"
      },
      "execution_count": null,
      "outputs": [
        {
          "output_type": "execute_result",
          "data": {
            "text/plain": [
              "<_io.TextIOWrapper name='calci/arithmetic.py' mode='x' encoding='UTF-8'>"
            ]
          },
          "metadata": {},
          "execution_count": 23
        }
      ]
    },
    {
      "cell_type": "code",
      "source": [
        "open(\"calci/_init_.py\",'x')"
      ],
      "metadata": {
        "colab": {
          "base_uri": "https://localhost:8080/",
          "height": 165
        },
        "id": "IW3GgLv5qDJr",
        "outputId": "ae89d099-c65f-4994-ca3c-82b99eebfe30"
      },
      "execution_count": null,
      "outputs": [
        {
          "output_type": "error",
          "ename": "FileExistsError",
          "evalue": "ignored",
          "traceback": [
            "\u001b[0;31m---------------------------------------------------------------------------\u001b[0m",
            "\u001b[0;31mFileExistsError\u001b[0m                           Traceback (most recent call last)",
            "\u001b[0;32m<ipython-input-24-ca1d6accf8f1>\u001b[0m in \u001b[0;36m<cell line: 1>\u001b[0;34m()\u001b[0m\n\u001b[0;32m----> 1\u001b[0;31m \u001b[0mopen\u001b[0m\u001b[0;34m(\u001b[0m\u001b[0;34m\"calci/_init_.py\"\u001b[0m\u001b[0;34m,\u001b[0m\u001b[0;34m'x'\u001b[0m\u001b[0;34m)\u001b[0m\u001b[0;34m\u001b[0m\u001b[0;34m\u001b[0m\u001b[0m\n\u001b[0m",
            "\u001b[0;31mFileExistsError\u001b[0m: [Errno 17] File exists: 'calci/_init_.py'"
          ]
        }
      ]
    },
    {
      "cell_type": "code",
      "source": [
        "from calci import ar\n",
        "ar.add(2,3),ar.sub(9,3), ar.mul(4,5), ar.division(20,5)"
      ],
      "metadata": {
        "colab": {
          "base_uri": "https://localhost:8080/"
        },
        "id": "WX6mUErRn1uC",
        "outputId": "3cd334da-4cc9-4705-d138-e9b93060c6a6"
      },
      "execution_count": null,
      "outputs": [
        {
          "output_type": "execute_result",
          "data": {
            "text/plain": [
              "(5, 6, 20, 4.0)"
            ]
          },
          "metadata": {},
          "execution_count": 22
        }
      ]
    },
    {
      "cell_type": "markdown",
      "source": [
        "PACKAGES TOPIC OVER\n"
      ],
      "metadata": {
        "id": "XOZcvjsYtyws"
      }
    },
    {
      "cell_type": "markdown",
      "source": [
        "NEXT TOPIC - WITH THAT WE CONCLUDE\n",
        "\n",
        "CLASS\n",
        "\n",
        "LIBRARIES\n",
        "\n",
        "VISUALISE"
      ],
      "metadata": {
        "id": "pLXAz5Xtt2XT"
      }
    },
    {
      "cell_type": "markdown",
      "source": [
        "now CLASS concept\n",
        "  "
      ],
      "metadata": {
        "id": "OLfiApBSu_X-"
      }
    },
    {
      "cell_type": "code",
      "source": [
        "a=10\n",
        "print(type(a))"
      ],
      "metadata": {
        "colab": {
          "base_uri": "https://localhost:8080/"
        },
        "id": "JwOd-DQwteib",
        "outputId": "015c8813-7103-4e4d-9a25-8afcb4d10c82"
      },
      "execution_count": null,
      "outputs": [
        {
          "output_type": "stream",
          "name": "stdout",
          "text": [
            "<class 'int'>\n"
          ]
        }
      ]
    },
    {
      "cell_type": "code",
      "source": [
        "name='hari'\n",
        "print(type(name))"
      ],
      "metadata": {
        "colab": {
          "base_uri": "https://localhost:8080/"
        },
        "id": "F4lVBaKTuRnL",
        "outputId": "5fd48b35-f631-444b-a81c-35c57618d08e"
      },
      "execution_count": null,
      "outputs": [
        {
          "output_type": "stream",
          "name": "stdout",
          "text": [
            "<class 'str'>\n"
          ]
        }
      ]
    },
    {
      "cell_type": "code",
      "source": [
        "class arithmetic:\n",
        "  def add(self,a,b):\n",
        "    return a+b\n",
        "  def sub(self,a,b):\n",
        "    return a-b\n",
        "  def mul(self,a,b):\n",
        "    return a*b\n",
        "  def division(self,a,b):\n",
        "    return a/b"
      ],
      "metadata": {
        "id": "1fpX-Ikkupqr"
      },
      "execution_count": null,
      "outputs": []
    },
    {
      "cell_type": "code",
      "source": [
        "ari = arithmetic()\n",
        "ari.mul(2,3), ari.add(4,4)"
      ],
      "metadata": {
        "colab": {
          "base_uri": "https://localhost:8080/"
        },
        "id": "3DHWLrQou5fM",
        "outputId": "b43ff73f-b3b6-44ad-a555-0430f37fc2c3"
      },
      "execution_count": null,
      "outputs": [
        {
          "output_type": "execute_result",
          "data": {
            "text/plain": [
              "(6, 8)"
            ]
          },
          "metadata": {},
          "execution_count": 38
        }
      ]
    }
  ]
}